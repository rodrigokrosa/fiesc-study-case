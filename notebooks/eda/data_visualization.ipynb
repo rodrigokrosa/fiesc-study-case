{
 "cells": [
  {
   "cell_type": "code",
   "execution_count": 1,
   "metadata": {},
   "outputs": [],
   "source": [
    "import autorootcwd  # noqa\n",
    "import ipywidgets as widgets\n",
    "import matplotlib.pyplot as plt\n",
    "import numpy as np\n",
    "import pandas as pd\n",
    "\n",
    "from ipywidgets import interact\n",
    "from utils.transforms.fft import get_fft, get_fftfreq"
   ]
  },
  {
   "cell_type": "markdown",
   "metadata": {},
   "source": [
    "## Data Description\n",
    "\n",
    "There are 5 .npy files which represent the 5 sensors available from one single electric motor. The data was acquired simultaneously with a sample rate of 10 kHz.\n",
    "\n",
    "The remaining .npy file has all the classes ranging from A to E, where each class represents a different operation state. It may or may not have different faults or normal behaviour."
   ]
  },
  {
   "cell_type": "code",
   "execution_count": 2,
   "metadata": {},
   "outputs": [],
   "source": [
    "SAMPLING_RATE = 10_000"
   ]
  },
  {
   "cell_type": "code",
   "execution_count": 3,
   "metadata": {},
   "outputs": [],
   "source": [
    "classes = np.load(\"data/raw/Classes.npy\", allow_pickle=True)\n",
    "sensor_1 = np.load(\"data/raw/Dados_1.npy\", allow_pickle=True)\n",
    "sensor_2 = np.load(\"data/raw/Dados_2.npy\", allow_pickle=True)\n",
    "sensor_3 = np.load(\"data/raw/Dados_3.npy\", allow_pickle=True)\n",
    "sensor_4 = np.load(\"data/raw/Dados_4.npy\", allow_pickle=True)\n",
    "sensor_5 = np.load(\"data/raw/Dados_5.npy\", allow_pickle=True)"
   ]
  },
  {
   "cell_type": "code",
   "execution_count": 4,
   "metadata": {},
   "outputs": [
    {
     "data": {
      "text/plain": [
       "classes \n",
       "Classe A    10000\n",
       "Classe B    10000\n",
       "Classe C    10000\n",
       "Classe D    10000\n",
       "Classe E    10000\n",
       "Name: count, dtype: int64"
      ]
     },
     "execution_count": 4,
     "metadata": {},
     "output_type": "execute_result"
    }
   ],
   "source": [
    "df_classes = pd.DataFrame(classes, columns=[\"classes\"])\n",
    "df_classes.value_counts()"
   ]
  },
  {
   "cell_type": "code",
   "execution_count": 5,
   "metadata": {},
   "outputs": [
    {
     "data": {
      "text/html": [
       "<div>\n",
       "<style scoped>\n",
       "    .dataframe tbody tr th:only-of-type {\n",
       "        vertical-align: middle;\n",
       "    }\n",
       "\n",
       "    .dataframe tbody tr th {\n",
       "        vertical-align: top;\n",
       "    }\n",
       "\n",
       "    .dataframe thead th {\n",
       "        text-align: right;\n",
       "    }\n",
       "</style>\n",
       "<table border=\"1\" class=\"dataframe\">\n",
       "  <thead>\n",
       "    <tr style=\"text-align: right;\">\n",
       "      <th></th>\n",
       "      <th>classes</th>\n",
       "    </tr>\n",
       "  </thead>\n",
       "  <tbody>\n",
       "    <tr>\n",
       "      <th>0</th>\n",
       "      <td>Classe D</td>\n",
       "    </tr>\n",
       "    <tr>\n",
       "      <th>1</th>\n",
       "      <td>Classe A</td>\n",
       "    </tr>\n",
       "    <tr>\n",
       "      <th>2</th>\n",
       "      <td>Classe A</td>\n",
       "    </tr>\n",
       "    <tr>\n",
       "      <th>3</th>\n",
       "      <td>Classe B</td>\n",
       "    </tr>\n",
       "    <tr>\n",
       "      <th>4</th>\n",
       "      <td>Classe D</td>\n",
       "    </tr>\n",
       "    <tr>\n",
       "      <th>...</th>\n",
       "      <td>...</td>\n",
       "    </tr>\n",
       "    <tr>\n",
       "      <th>49995</th>\n",
       "      <td>Classe B</td>\n",
       "    </tr>\n",
       "    <tr>\n",
       "      <th>49996</th>\n",
       "      <td>Classe E</td>\n",
       "    </tr>\n",
       "    <tr>\n",
       "      <th>49997</th>\n",
       "      <td>Classe D</td>\n",
       "    </tr>\n",
       "    <tr>\n",
       "      <th>49998</th>\n",
       "      <td>Classe A</td>\n",
       "    </tr>\n",
       "    <tr>\n",
       "      <th>49999</th>\n",
       "      <td>Classe B</td>\n",
       "    </tr>\n",
       "  </tbody>\n",
       "</table>\n",
       "<p>50000 rows × 1 columns</p>\n",
       "</div>"
      ],
      "text/plain": [
       "        classes\n",
       "0      Classe D\n",
       "1      Classe A\n",
       "2      Classe A\n",
       "3      Classe B\n",
       "4      Classe D\n",
       "...         ...\n",
       "49995  Classe B\n",
       "49996  Classe E\n",
       "49997  Classe D\n",
       "49998  Classe A\n",
       "49999  Classe B\n",
       "\n",
       "[50000 rows x 1 columns]"
      ]
     },
     "execution_count": 5,
     "metadata": {},
     "output_type": "execute_result"
    }
   ],
   "source": [
    "df_classes"
   ]
  },
  {
   "cell_type": "markdown",
   "metadata": {},
   "source": [
    "### Checking data\n",
    "\n",
    "By observing the sensor data, the sensor shapes different between the 3 first sensors to the last 2. "
   ]
  },
  {
   "cell_type": "code",
   "execution_count": 6,
   "metadata": {},
   "outputs": [
    {
     "data": {
      "text/plain": [
       "((50000, 201), (50000, 201), (50000, 201), (50000, 200), (50000, 200))"
      ]
     },
     "execution_count": 6,
     "metadata": {},
     "output_type": "execute_result"
    }
   ],
   "source": [
    "sensor_1.shape, sensor_2.shape, sensor_3.shape, sensor_4.shape, sensor_5.shape"
   ]
  },
  {
   "cell_type": "markdown",
   "metadata": {},
   "source": [
    "For the first three sensors, it is observed that there are only one case that doesn't contain NaN values.\n",
    "\n",
    "It can also be observed by checking the last value of each sample, that it matches the same proportion. Meaning that the last value of most of the samples is NaN."
   ]
  },
  {
   "cell_type": "code",
   "execution_count": 7,
   "metadata": {},
   "outputs": [
    {
     "data": {
      "text/plain": [
       "True     49999\n",
       "False        1\n",
       "Name: count, dtype: int64"
      ]
     },
     "execution_count": 7,
     "metadata": {},
     "output_type": "execute_result"
    }
   ],
   "source": [
    "pd.Series(np.isnan(sensor_1).any(axis=1)).value_counts()"
   ]
  },
  {
   "cell_type": "code",
   "execution_count": 8,
   "metadata": {},
   "outputs": [
    {
     "data": {
      "text/plain": [
       "NaN    49999\n",
       "2.0        1\n",
       "Name: count, dtype: int64"
      ]
     },
     "execution_count": 8,
     "metadata": {},
     "output_type": "execute_result"
    }
   ],
   "source": [
    "pd.Series(sensor_1[:, -1]).value_counts(dropna=False)"
   ]
  },
  {
   "cell_type": "code",
   "execution_count": 9,
   "metadata": {},
   "outputs": [
    {
     "data": {
      "text/plain": [
       "True     49999\n",
       "False        1\n",
       "Name: count, dtype: int64"
      ]
     },
     "execution_count": 9,
     "metadata": {},
     "output_type": "execute_result"
    }
   ],
   "source": [
    "pd.Series(np.isnan(sensor_2).any(axis=1)).value_counts()"
   ]
  },
  {
   "cell_type": "code",
   "execution_count": 10,
   "metadata": {},
   "outputs": [
    {
     "data": {
      "text/plain": [
       "True     49999\n",
       "False        1\n",
       "Name: count, dtype: int64"
      ]
     },
     "execution_count": 10,
     "metadata": {},
     "output_type": "execute_result"
    }
   ],
   "source": [
    "pd.Series(np.isnan(sensor_3).any(axis=1)).value_counts()"
   ]
  },
  {
   "cell_type": "code",
   "execution_count": 11,
   "metadata": {},
   "outputs": [
    {
     "data": {
      "text/plain": [
       "False    40869\n",
       "True      9131\n",
       "Name: count, dtype: int64"
      ]
     },
     "execution_count": 11,
     "metadata": {},
     "output_type": "execute_result"
    }
   ],
   "source": [
    "pd.Series(np.isnan(sensor_4).any(axis=1)).value_counts()"
   ]
  },
  {
   "cell_type": "markdown",
   "metadata": {},
   "source": [
    "Sensor 5 has a lot of samples with at least one NaN value."
   ]
  },
  {
   "cell_type": "code",
   "execution_count": 12,
   "metadata": {},
   "outputs": [
    {
     "data": {
      "text/plain": [
       "False    30308\n",
       "True     19692\n",
       "Name: count, dtype: int64"
      ]
     },
     "execution_count": 12,
     "metadata": {},
     "output_type": "execute_result"
    }
   ],
   "source": [
    "pd.Series(np.isnan(sensor_5).any(axis=1)).value_counts()"
   ]
  },
  {
   "cell_type": "markdown",
   "metadata": {},
   "source": [
    "By dropping the last value for the first three sensors, the shapes are now the same and now the first three sensors do not contain NaN values."
   ]
  },
  {
   "cell_type": "code",
   "execution_count": 13,
   "metadata": {},
   "outputs": [
    {
     "data": {
      "text/plain": [
       "((50000, 200), (50000, 200), (50000, 200), (50000, 200), (50000, 200))"
      ]
     },
     "execution_count": 13,
     "metadata": {},
     "output_type": "execute_result"
    }
   ],
   "source": [
    "sensor_1 = sensor_1[:,:-1]\n",
    "sensor_2 = sensor_2[:,:-1]\n",
    "sensor_3 = sensor_3[:,:-1]\n",
    "\n",
    "sensor_1.shape, sensor_2.shape, sensor_3.shape, sensor_4.shape, sensor_5.shape"
   ]
  },
  {
   "cell_type": "code",
   "execution_count": 14,
   "metadata": {},
   "outputs": [],
   "source": [
    "assert np.isnan(sensor_1).any(axis=1).any() == False\n",
    "assert np.isnan(sensor_2).any(axis=1).any() == False\n",
    "assert np.isnan(sensor_3).any(axis=1).any() == False"
   ]
  },
  {
   "cell_type": "markdown",
   "metadata": {},
   "source": [
    "## Visualizing the data"
   ]
  },
  {
   "cell_type": "markdown",
   "metadata": {},
   "source": [
    "### Raw data visualization\n",
    "\n",
    "By plotting the 5 sensors in a single figure and changing the sample, some observations can be done:\n",
    "\n",
    "- The first three sensors seem to be vibration sensors with a mean value close to 0, while the fifth sensor has a DC offset;\n",
    "- The fourth sensor signal does not seem to be working properly, displaying only the value 50 for all data points. Therefore, does not have any predictive value for the task."
   ]
  },
  {
   "cell_type": "code",
   "execution_count": 15,
   "metadata": {},
   "outputs": [
    {
     "data": {
      "application/vnd.jupyter.widget-view+json": {
       "model_id": "b380d6eb93794155900b7a264ce1fbf1",
       "version_major": 2,
       "version_minor": 0
      },
      "text/plain": [
       "interactive(children=(IntSlider(value=0, description='sample', max=49999), Output()), _dom_classes=('widget-in…"
      ]
     },
     "metadata": {},
     "output_type": "display_data"
    }
   ],
   "source": [
    "@interact(sample=widgets.IntSlider(min=0, max=classes.shape[0] - 1, step=1, value=0))\n",
    "def raw_sensor_data_exploration(sample: int):\n",
    "    fig, axs = plt.subplots(nrows=1, ncols=5, figsize=(24, 4), dpi=72)\n",
    "    axes = axs.ravel()\n",
    "\n",
    "    sensors = [\n",
    "        sensor_1[sample],\n",
    "        sensor_2[sample],\n",
    "        sensor_3[sample],\n",
    "        sensor_4[sample],\n",
    "        sensor_5[sample],\n",
    "    ]\n",
    "    fig.suptitle(f\"Sample {sample} - {classes[sample][0]}\")\n",
    "    \n",
    "    for i, sensor in enumerate(sensors):\n",
    "        axes[i].set_title(f\"Sensor {i + 1}\")\n",
    "        axes[i].plot(sensor)\n",
    "    "
   ]
  },
  {
   "cell_type": "markdown",
   "metadata": {},
   "source": [
    "Checking if all data from sensor 4 is actually only the value 50 by getting unique values, confirms the assumption."
   ]
  },
  {
   "cell_type": "code",
   "execution_count": 16,
   "metadata": {},
   "outputs": [
    {
     "data": {
      "text/plain": [
       "array([50., nan])"
      ]
     },
     "execution_count": 16,
     "metadata": {},
     "output_type": "execute_result"
    }
   ],
   "source": [
    "pd.unique(sensor_4.ravel('K'))"
   ]
  },
  {
   "cell_type": "markdown",
   "metadata": {},
   "source": [
    "### Spectrum visualization\n",
    "\n",
    "Removing the sensor_4, and analysing the spectrum of the signals for each sample, there are a few observations that can be useful to understand what each sensor is and what the classes may represent.\n",
    "\n",
    "Sensor 1,2, and 3 have clear peaks that may represent the vibration harmonics of the motor's fundamental rotation frequency. In rotating machinery, the first few harmonics can represent different faults, such as unbalance, misalignment, bent shaft, and others [1].\n",
    "\n",
    "Sensor 5, on the other hand, has a different behaviour compared to the rest. It has amplitudes way higher than the others and overall noiser spectrum with not so defined peaks. From these observations, maybe a different sensor is used here or the place that it was placed has an overall different behavious with more vibration. \n",
    "\n",
    "\n",
    "> [1] RANDALL, Robert Bond. Vibration-based condition monitoring: industrial, automotive and aerospace applications. John Wiley & Sons, 2021."
   ]
  },
  {
   "cell_type": "code",
   "execution_count": 17,
   "metadata": {},
   "outputs": [
    {
     "data": {
      "application/vnd.jupyter.widget-view+json": {
       "model_id": "3a2145e42a5947f6aba7ae7c381a73f1",
       "version_major": 2,
       "version_minor": 0
      },
      "text/plain": [
       "interactive(children=(IntSlider(value=0, description='sample', max=49999), Output()), _dom_classes=('widget-in…"
      ]
     },
     "metadata": {},
     "output_type": "display_data"
    }
   ],
   "source": [
    "@interact(sample=widgets.IntSlider(min=0, max=(classes.shape[0] - 1), step=1, value=0))\n",
    "def spetrum_exploration(sample: int):\n",
    "    fig, axs = plt.subplots(nrows=1, ncols=4, figsize=(24, 4), dpi=72)\n",
    "    axes = axs.ravel()\n",
    "\n",
    "    sensors = [sensor_1[sample], sensor_2[sample], sensor_3[sample], sensor_5[sample]]\n",
    "    \n",
    "    sensor_names = {0: \"Sensor 1\", 1: \"Sensor 2\", 2: \"Sensor 3\", 3: \"Sensor 5\"}\n",
    "    \n",
    "    fig.suptitle(f\"Sample {sample} - {classes[sample][0]}\")\n",
    "\n",
    "    for i, sensor in enumerate(sensors):\n",
    "        if np.isnan(sensor).any():\n",
    "            sensor = sensor[~np.isnan(sensor)]\n",
    "        amplitudes = get_fft(sensor, remove_mean=True)\n",
    "        frequencies = get_fftfreq(len(sensor), fs=SAMPLING_RATE)\n",
    "        axes[i].set_title(sensor_names[i])\n",
    "        axes[i].plot(frequencies, amplitudes)"
   ]
  },
  {
   "cell_type": "code",
   "execution_count": null,
   "metadata": {},
   "outputs": [],
   "source": []
  }
 ],
 "metadata": {
  "kernelspec": {
   "display_name": "fiesc-study-case-MKUQavRa-py3.10",
   "language": "python",
   "name": "python3"
  },
  "language_info": {
   "codemirror_mode": {
    "name": "ipython",
    "version": 3
   },
   "file_extension": ".py",
   "mimetype": "text/x-python",
   "name": "python",
   "nbconvert_exporter": "python",
   "pygments_lexer": "ipython3",
   "version": "3.10.13"
  }
 },
 "nbformat": 4,
 "nbformat_minor": 2
}
