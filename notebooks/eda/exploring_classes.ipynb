{
 "cells": [
  {
   "cell_type": "code",
   "execution_count": 1,
   "metadata": {},
   "outputs": [],
   "source": [
    "import autorootcwd  # noqa\n",
    "import numpy as np\n",
    "import pandas as pd\n",
    "\n",
    "from utils.transforms.fft import get_fft, get_fftfreq"
   ]
  },
  {
   "cell_type": "code",
   "execution_count": 2,
   "metadata": {},
   "outputs": [],
   "source": [
    "SAMPLING_RATE = 10_000"
   ]
  },
  {
   "cell_type": "code",
   "execution_count": 3,
   "metadata": {},
   "outputs": [],
   "source": [
    "classes = np.load(\"data/raw/Classes.npy\", allow_pickle=True)\n",
    "sensor_1 = np.load(\"data/raw/Dados_1.npy\", allow_pickle=True)\n",
    "sensor_2 = np.load(\"data/raw/Dados_2.npy\", allow_pickle=True)\n",
    "sensor_3 = np.load(\"data/raw/Dados_3.npy\", allow_pickle=True)\n",
    "sensor_4 = np.load(\"data/raw/Dados_4.npy\", allow_pickle=True)\n",
    "sensor_5 = np.load(\"data/raw/Dados_5.npy\", allow_pickle=True)"
   ]
  },
  {
   "cell_type": "code",
   "execution_count": 4,
   "metadata": {},
   "outputs": [
    {
     "data": {
      "text/plain": [
       "classes \n",
       "Classe A    10000\n",
       "Classe B    10000\n",
       "Classe C    10000\n",
       "Classe D    10000\n",
       "Classe E    10000\n",
       "Name: count, dtype: int64"
      ]
     },
     "execution_count": 4,
     "metadata": {},
     "output_type": "execute_result"
    }
   ],
   "source": [
    "df_classes = pd.DataFrame(classes, columns=[\"classes\"])\n",
    "df_classes.value_counts()"
   ]
  },
  {
   "cell_type": "code",
   "execution_count": 5,
   "metadata": {},
   "outputs": [],
   "source": [
    "sensor_1, sensor_2, sensor_3 = sensor_1[:,:-1], sensor_2[:,:-1], sensor_3[:,:-1]"
   ]
  },
  {
   "cell_type": "code",
   "execution_count": 10,
   "metadata": {},
   "outputs": [],
   "source": [
    "sensor_1_fft = np.apply_along_axis(func1d=, axis=1, arr=sensor_1)"
   ]
  },
  {
   "cell_type": "code",
   "execution_count": 8,
   "metadata": {},
   "outputs": [],
   "source": [
    "sensor_1_fft = get_fft(sensor_1)\n",
    "sensor_2_fft = get_fft(sensor_2)\n",
    "sensor_3_fft = get_fft(sensor_3)\n",
    "sensor_5_fft = get_fft(sensor_5)"
   ]
  },
  {
   "cell_type": "code",
   "execution_count": 12,
   "metadata": {},
   "outputs": [],
   "source": [
    "sensor_1_fftfreq = get_fftfreq(len(sensor_1), SAMPLING_RATE)"
   ]
  },
  {
   "cell_type": "code",
   "execution_count": null,
   "metadata": {},
   "outputs": [],
   "source": []
  }
 ],
 "metadata": {
  "kernelspec": {
   "display_name": "fiesc-study-case-MKUQavRa-py3.10",
   "language": "python",
   "name": "python3"
  },
  "language_info": {
   "codemirror_mode": {
    "name": "ipython",
    "version": 3
   },
   "file_extension": ".py",
   "mimetype": "text/x-python",
   "name": "python",
   "nbconvert_exporter": "python",
   "pygments_lexer": "ipython3",
   "version": "3.10.13"
  }
 },
 "nbformat": 4,
 "nbformat_minor": 2
}
