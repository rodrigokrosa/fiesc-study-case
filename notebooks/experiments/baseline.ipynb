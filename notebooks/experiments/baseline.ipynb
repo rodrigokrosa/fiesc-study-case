{
 "cells": [
  {
   "cell_type": "code",
   "execution_count": 10,
   "metadata": {},
   "outputs": [],
   "source": [
    "from functools import partial\n",
    "from typing import Callable\n",
    "\n",
    "import autorootcwd  # noqa: F401\n",
    "\n",
    "import pandas as pd\n",
    "# import numpy as np\n",
    "# import matplotlib.pyplot as plt\n",
    "\n",
    "from scipy.stats import loguniform\n",
    "# from sklearn.metrics import roc_auc_score, make_scorer\n",
    "from sklearn.metrics import accuracy_score\n",
    "from sklearn.model_selection import (\n",
    "    RandomizedSearchCV,\n",
    "    RepeatedStratifiedKFold,\n",
    "    train_test_split,\n",
    ")\n",
    "from sklearn.linear_model import LogisticRegression\n",
    "from sklearn.pipeline import Pipeline\n",
    "from sklearn.preprocessing import StandardScaler, LabelEncoder"
   ]
  },
  {
   "cell_type": "markdown",
   "metadata": {},
   "source": [
    "# Predictive task definition\n",
    "\n",
    "The objective from these experiments is to the identify the machine's patterns through Machine Learing models. A way to interpret this objective, is to visualize its sensor data, generate interesting features, and use those features at a machine learning model to predict its classes.\n",
    "\n",
    "Two possible problems approaches: \n",
    "- attribute a single class for each sample (multi-class classfication problem); \n",
    "- consider that multiple faults can happen at the same time (multi-label classification, can be considered binary classification for each fault).\n",
    "\n",
    "The latter problem is more realistic considering a few factors: \n",
    "- a multi-class approach fails when new classes appear (there must be an \"others\" class);\n",
    "- multiple faults DO happen in practice;\n",
    "\n",
    "But there are a few problems:\n",
    "- For this dataset, the classes are labeled in a way that each sample only has a single fault happening. Therefore, it is not fair to the multi-label model;\n",
    "- We turn a perfectly stratified dataset into a imbalanced dataset. Different metrics such as balanced accuracy, or ROC AUC must be used;\n",
    "- More parameters to tune, such as the threshold for the ROC curve. It is possible to fix a certain metric such as TPR to diminish FNs, trading-off for FPR.\n",
    "\n",
    "A few considerations:\n",
    "- it would be better to have different machines/sensors and have them separated in the training/testing sets to avoid a possibe data leakage, where the model learns specific configurations of the machine. It is not possible to do this with this dataset. \n",
    "- the classes are perfectly stratified for a multi-class approach, but will turn imbalanced when turning the problem into a multi-label."
   ]
  },
  {
   "cell_type": "markdown",
   "metadata": {},
   "source": [
    "## Experiment propositions:\n",
    "\n",
    "Initially, the problem is going to be defined as a multi-class classification and the following experiments are going to be made:\n",
    "\n",
    "1. Train a simple baseline linear model (LogisticRegression) on only a subset of features (time-domain statistical features);\n",
    "2. Retrain the same baseline model on other subsets of features (time-domain impulsive, spectral, and envelope features);\n",
    "3. Train the baseline model with all features;\n",
    "\n",
    "Results: comparison table from experiments 1, 2, and 3.\n",
    "\n",
    "4. Explore different more capable models (RF, SVM, XGBoost, CatBoost, etc.);\n",
    "\n",
    "Results: comparison table with all the different model results.\n",
    "\n",
    "After those experiments, repeat for the multi-label approach."
   ]
  },
  {
   "cell_type": "markdown",
   "metadata": {},
   "source": [
    "## [Exp. 1] Baseline model"
   ]
  },
  {
   "cell_type": "code",
   "execution_count": 13,
   "metadata": {},
   "outputs": [],
   "source": [
    "feature_dataset = pd.read_parquet('data/processed/specialized_features.parquet')"
   ]
  },
  {
   "cell_type": "markdown",
   "metadata": {},
   "source": [
    "#### [Exp. 1.1]"
   ]
  },
  {
   "cell_type": "code",
   "execution_count": 14,
   "metadata": {},
   "outputs": [],
   "source": [
    "vibration_sensor_cols = feature_dataset.columns[feature_dataset.columns.str.contains('sensor_1|sensor_2|sensor_3')]\n",
    "vibration_features = feature_dataset[vibration_sensor_cols]"
   ]
  },
  {
   "cell_type": "code",
   "execution_count": 15,
   "metadata": {},
   "outputs": [],
   "source": [
    "statistical_feat_cols = vibration_features.columns[vibration_features.columns.str.contains('rms|peak_to_peak|kurtosis|skewness|crest_factor')]\n",
    "statistical_features = vibration_features[statistical_feat_cols]\n",
    "\n",
    "impulsive_feat_cols = vibration_features.columns[vibration_features.columns.str.contains('peak|impulse_factor|crest_factor|clearance_factor')]\n",
    "impulsive_features = vibration_features[impulsive_feat_cols]\n",
    "\n",
    "only_time_domain = vibration_features.columns[vibration_features.columns.str.contains('acceleration|velocity')]\n",
    "time_domain_statistical_features = vibration_features[only_time_domain]\n",
    "\n",
    "only_frequency_domain = vibration_features.columns[vibration_features.columns.str.contains('fft|envelope')]\n",
    "frequency_domain_features = vibration_features[only_frequency_domain]"
   ]
  },
  {
   "cell_type": "code",
   "execution_count": 17,
   "metadata": {},
   "outputs": [
    {
     "data": {
      "text/plain": [
       "Index(['sensor_1/fft/rms/5-500', 'sensor_2/fft/rms/5-500',\n",
       "       'sensor_3/fft/rms/5-500', 'sensor_1/fft/rms/500-1000',\n",
       "       'sensor_2/fft/rms/500-1000', 'sensor_3/fft/rms/500-1000',\n",
       "       'sensor_1/fft/rms/5-1000', 'sensor_2/fft/rms/5-1000',\n",
       "       'sensor_3/fft/rms/5-1000', 'sensor_1/fft/rms/500-1500',\n",
       "       'sensor_2/fft/rms/500-1500', 'sensor_3/fft/rms/500-1500',\n",
       "       'sensor_1/fft/rms/1000-1500', 'sensor_2/fft/rms/1000-1500',\n",
       "       'sensor_3/fft/rms/1000-1500', 'sensor_1/fft/rms/1500-2000',\n",
       "       'sensor_2/fft/rms/1500-2000', 'sensor_3/fft/rms/1500-2000',\n",
       "       'sensor_1/fft/rms/2000-3000', 'sensor_2/fft/rms/2000-3000',\n",
       "       'sensor_3/fft/rms/2000-3000', 'sensor_1/fft/rms/3000-5000',\n",
       "       'sensor_2/fft/rms/3000-5000', 'sensor_3/fft/rms/3000-5000',\n",
       "       'sensor_1/fft/peak/5-500', 'sensor_2/fft/peak/5-500',\n",
       "       'sensor_3/fft/peak/5-500', 'sensor_1/fft/peak/500-1000',\n",
       "       'sensor_2/fft/peak/500-1000', 'sensor_3/fft/peak/500-1000',\n",
       "       'sensor_1/fft/peak/5-1000', 'sensor_2/fft/peak/5-1000',\n",
       "       'sensor_3/fft/peak/5-1000', 'sensor_1/fft/peak/500-1500',\n",
       "       'sensor_2/fft/peak/500-1500', 'sensor_3/fft/peak/500-1500',\n",
       "       'sensor_1/fft/peak/1000-1500', 'sensor_2/fft/peak/1000-1500',\n",
       "       'sensor_3/fft/peak/1000-1500', 'sensor_1/fft/peak/1500-2000',\n",
       "       'sensor_2/fft/peak/1500-2000', 'sensor_3/fft/peak/1500-2000',\n",
       "       'sensor_1/fft/peak/2000-3000', 'sensor_2/fft/peak/2000-3000',\n",
       "       'sensor_3/fft/peak/2000-3000', 'sensor_1/fft/peak/3000-5000',\n",
       "       'sensor_2/fft/peak/3000-5000', 'sensor_3/fft/peak/3000-5000',\n",
       "       'sensor_1/envelope_spectrum/rms/5-300',\n",
       "       'sensor_2/envelope_spectrum/rms/5-300',\n",
       "       'sensor_3/envelope_spectrum/rms/5-300',\n",
       "       'sensor_1/envelope_spectrum/rms/250-500',\n",
       "       'sensor_2/envelope_spectrum/rms/250-500',\n",
       "       'sensor_3/envelope_spectrum/rms/250-500',\n",
       "       'sensor_1/envelope_spectrum/rms/450-750',\n",
       "       'sensor_2/envelope_spectrum/rms/450-750',\n",
       "       'sensor_3/envelope_spectrum/rms/450-750',\n",
       "       'sensor_1/envelope_spectrum/rms/700-1050',\n",
       "       'sensor_2/envelope_spectrum/rms/700-1050',\n",
       "       'sensor_3/envelope_spectrum/rms/700-1050',\n",
       "       'sensor_1/envelope_spectrum/peak/5-300',\n",
       "       'sensor_2/envelope_spectrum/peak/5-300',\n",
       "       'sensor_3/envelope_spectrum/peak/5-300',\n",
       "       'sensor_1/envelope_spectrum/peak/250-500',\n",
       "       'sensor_2/envelope_spectrum/peak/250-500',\n",
       "       'sensor_3/envelope_spectrum/peak/250-500',\n",
       "       'sensor_1/envelope_spectrum/peak/450-750',\n",
       "       'sensor_2/envelope_spectrum/peak/450-750',\n",
       "       'sensor_3/envelope_spectrum/peak/450-750',\n",
       "       'sensor_1/envelope_spectrum/peak/700-1050',\n",
       "       'sensor_2/envelope_spectrum/peak/700-1050',\n",
       "       'sensor_3/envelope_spectrum/peak/700-1050'],\n",
       "      dtype='object')"
      ]
     },
     "execution_count": 17,
     "metadata": {},
     "output_type": "execute_result"
    }
   ],
   "source": [
    "only_frequency_domain"
   ]
  },
  {
   "cell_type": "code",
   "execution_count": 52,
   "metadata": {},
   "outputs": [
    {
     "data": {
      "text/html": [
       "<div>\n",
       "<style scoped>\n",
       "    .dataframe tbody tr th:only-of-type {\n",
       "        vertical-align: middle;\n",
       "    }\n",
       "\n",
       "    .dataframe tbody tr th {\n",
       "        vertical-align: top;\n",
       "    }\n",
       "\n",
       "    .dataframe thead th {\n",
       "        text-align: right;\n",
       "    }\n",
       "</style>\n",
       "<table border=\"1\" class=\"dataframe\">\n",
       "  <thead>\n",
       "    <tr style=\"text-align: right;\">\n",
       "      <th></th>\n",
       "      <th>sensor_1/acceleration/mean</th>\n",
       "      <th>sensor_2/acceleration/mean</th>\n",
       "      <th>sensor_3/acceleration/mean</th>\n",
       "      <th>sensor_1/acceleration/std</th>\n",
       "      <th>sensor_2/acceleration/std</th>\n",
       "      <th>sensor_3/acceleration/std</th>\n",
       "      <th>sensor_1/acceleration/max</th>\n",
       "      <th>sensor_2/acceleration/max</th>\n",
       "      <th>sensor_3/acceleration/max</th>\n",
       "      <th>sensor_1/acceleration/min</th>\n",
       "      <th>...</th>\n",
       "      <th>sensor_3/velocity/peak</th>\n",
       "      <th>sensor_1/velocity/impulse_factor</th>\n",
       "      <th>sensor_2/velocity/impulse_factor</th>\n",
       "      <th>sensor_3/velocity/impulse_factor</th>\n",
       "      <th>sensor_1/velocity/crest_factor</th>\n",
       "      <th>sensor_2/velocity/crest_factor</th>\n",
       "      <th>sensor_3/velocity/crest_factor</th>\n",
       "      <th>sensor_1/velocity/clearance_factor</th>\n",
       "      <th>sensor_2/velocity/clearance_factor</th>\n",
       "      <th>sensor_3/velocity/clearance_factor</th>\n",
       "    </tr>\n",
       "  </thead>\n",
       "  <tbody>\n",
       "    <tr>\n",
       "      <th>0</th>\n",
       "      <td>0.009764</td>\n",
       "      <td>0.011494</td>\n",
       "      <td>0.006821</td>\n",
       "      <td>0.095766</td>\n",
       "      <td>0.161612</td>\n",
       "      <td>0.283912</td>\n",
       "      <td>0.338075</td>\n",
       "      <td>0.511311</td>\n",
       "      <td>0.674950</td>\n",
       "      <td>-0.223562</td>\n",
       "      <td>...</td>\n",
       "      <td>0.000207</td>\n",
       "      <td>2.433362</td>\n",
       "      <td>3.808749</td>\n",
       "      <td>3.469636</td>\n",
       "      <td>2.037123</td>\n",
       "      <td>2.974232</td>\n",
       "      <td>2.751640</td>\n",
       "      <td>2.791162</td>\n",
       "      <td>4.570390</td>\n",
       "      <td>4.195728</td>\n",
       "    </tr>\n",
       "    <tr>\n",
       "      <th>1</th>\n",
       "      <td>0.009800</td>\n",
       "      <td>0.002345</td>\n",
       "      <td>0.006794</td>\n",
       "      <td>0.098875</td>\n",
       "      <td>0.212293</td>\n",
       "      <td>0.275367</td>\n",
       "      <td>0.198619</td>\n",
       "      <td>0.612137</td>\n",
       "      <td>0.749696</td>\n",
       "      <td>-0.306607</td>\n",
       "      <td>...</td>\n",
       "      <td>0.000138</td>\n",
       "      <td>2.204137</td>\n",
       "      <td>3.182531</td>\n",
       "      <td>2.569735</td>\n",
       "      <td>1.929710</td>\n",
       "      <td>2.579658</td>\n",
       "      <td>2.093326</td>\n",
       "      <td>2.456032</td>\n",
       "      <td>3.740394</td>\n",
       "      <td>3.035847</td>\n",
       "    </tr>\n",
       "    <tr>\n",
       "      <th>2</th>\n",
       "      <td>0.005349</td>\n",
       "      <td>0.011791</td>\n",
       "      <td>0.005558</td>\n",
       "      <td>0.010677</td>\n",
       "      <td>0.020596</td>\n",
       "      <td>0.023571</td>\n",
       "      <td>0.027556</td>\n",
       "      <td>0.056871</td>\n",
       "      <td>0.056572</td>\n",
       "      <td>-0.020569</td>\n",
       "      <td>...</td>\n",
       "      <td>0.000026</td>\n",
       "      <td>1.936146</td>\n",
       "      <td>2.458270</td>\n",
       "      <td>2.257664</td>\n",
       "      <td>1.683775</td>\n",
       "      <td>2.093925</td>\n",
       "      <td>1.920331</td>\n",
       "      <td>2.143697</td>\n",
       "      <td>2.742221</td>\n",
       "      <td>2.561180</td>\n",
       "    </tr>\n",
       "    <tr>\n",
       "      <th>3</th>\n",
       "      <td>0.000187</td>\n",
       "      <td>-0.005966</td>\n",
       "      <td>-0.001712</td>\n",
       "      <td>0.085607</td>\n",
       "      <td>0.196855</td>\n",
       "      <td>0.205195</td>\n",
       "      <td>0.235776</td>\n",
       "      <td>0.569074</td>\n",
       "      <td>0.463487</td>\n",
       "      <td>-0.209703</td>\n",
       "      <td>...</td>\n",
       "      <td>0.000143</td>\n",
       "      <td>2.343853</td>\n",
       "      <td>2.638394</td>\n",
       "      <td>3.109306</td>\n",
       "      <td>2.007188</td>\n",
       "      <td>2.181265</td>\n",
       "      <td>2.583273</td>\n",
       "      <td>2.636515</td>\n",
       "      <td>3.039421</td>\n",
       "      <td>3.574973</td>\n",
       "    </tr>\n",
       "    <tr>\n",
       "      <th>4</th>\n",
       "      <td>0.006093</td>\n",
       "      <td>0.002964</td>\n",
       "      <td>0.001560</td>\n",
       "      <td>0.060175</td>\n",
       "      <td>0.175737</td>\n",
       "      <td>0.192483</td>\n",
       "      <td>0.170310</td>\n",
       "      <td>0.660217</td>\n",
       "      <td>0.606119</td>\n",
       "      <td>-0.185975</td>\n",
       "      <td>...</td>\n",
       "      <td>0.000118</td>\n",
       "      <td>2.273364</td>\n",
       "      <td>4.294731</td>\n",
       "      <td>3.318239</td>\n",
       "      <td>1.954634</td>\n",
       "      <td>3.354862</td>\n",
       "      <td>2.553922</td>\n",
       "      <td>2.557923</td>\n",
       "      <td>5.052758</td>\n",
       "      <td>4.074405</td>\n",
       "    </tr>\n",
       "    <tr>\n",
       "      <th>...</th>\n",
       "      <td>...</td>\n",
       "      <td>...</td>\n",
       "      <td>...</td>\n",
       "      <td>...</td>\n",
       "      <td>...</td>\n",
       "      <td>...</td>\n",
       "      <td>...</td>\n",
       "      <td>...</td>\n",
       "      <td>...</td>\n",
       "      <td>...</td>\n",
       "      <td>...</td>\n",
       "      <td>...</td>\n",
       "      <td>...</td>\n",
       "      <td>...</td>\n",
       "      <td>...</td>\n",
       "      <td>...</td>\n",
       "      <td>...</td>\n",
       "      <td>...</td>\n",
       "      <td>...</td>\n",
       "      <td>...</td>\n",
       "      <td>...</td>\n",
       "    </tr>\n",
       "    <tr>\n",
       "      <th>49995</th>\n",
       "      <td>0.018096</td>\n",
       "      <td>0.004166</td>\n",
       "      <td>0.015179</td>\n",
       "      <td>0.093106</td>\n",
       "      <td>0.196701</td>\n",
       "      <td>0.245160</td>\n",
       "      <td>0.251402</td>\n",
       "      <td>0.627928</td>\n",
       "      <td>0.907333</td>\n",
       "      <td>-0.191248</td>\n",
       "      <td>...</td>\n",
       "      <td>0.000150</td>\n",
       "      <td>2.740211</td>\n",
       "      <td>3.570448</td>\n",
       "      <td>3.403280</td>\n",
       "      <td>2.311937</td>\n",
       "      <td>2.860436</td>\n",
       "      <td>2.700949</td>\n",
       "      <td>3.145440</td>\n",
       "      <td>4.209266</td>\n",
       "      <td>4.045308</td>\n",
       "    </tr>\n",
       "    <tr>\n",
       "      <th>49996</th>\n",
       "      <td>0.008015</td>\n",
       "      <td>0.010936</td>\n",
       "      <td>0.014510</td>\n",
       "      <td>0.070580</td>\n",
       "      <td>0.151584</td>\n",
       "      <td>0.219644</td>\n",
       "      <td>0.167889</td>\n",
       "      <td>0.456616</td>\n",
       "      <td>0.498169</td>\n",
       "      <td>-0.179111</td>\n",
       "      <td>...</td>\n",
       "      <td>0.000140</td>\n",
       "      <td>2.479343</td>\n",
       "      <td>3.028907</td>\n",
       "      <td>3.034161</td>\n",
       "      <td>2.193811</td>\n",
       "      <td>2.449043</td>\n",
       "      <td>2.435532</td>\n",
       "      <td>2.709995</td>\n",
       "      <td>3.506853</td>\n",
       "      <td>3.585953</td>\n",
       "    </tr>\n",
       "    <tr>\n",
       "      <th>49997</th>\n",
       "      <td>0.004533</td>\n",
       "      <td>0.011163</td>\n",
       "      <td>-0.000664</td>\n",
       "      <td>0.092091</td>\n",
       "      <td>0.199724</td>\n",
       "      <td>0.259247</td>\n",
       "      <td>0.217659</td>\n",
       "      <td>0.588285</td>\n",
       "      <td>0.710894</td>\n",
       "      <td>-0.214861</td>\n",
       "      <td>...</td>\n",
       "      <td>0.000172</td>\n",
       "      <td>2.932770</td>\n",
       "      <td>3.177637</td>\n",
       "      <td>2.931674</td>\n",
       "      <td>2.442035</td>\n",
       "      <td>2.507414</td>\n",
       "      <td>2.393400</td>\n",
       "      <td>3.372916</td>\n",
       "      <td>3.843365</td>\n",
       "      <td>3.432871</td>\n",
       "    </tr>\n",
       "    <tr>\n",
       "      <th>49998</th>\n",
       "      <td>0.016410</td>\n",
       "      <td>0.019973</td>\n",
       "      <td>0.037972</td>\n",
       "      <td>0.097714</td>\n",
       "      <td>0.194672</td>\n",
       "      <td>0.262104</td>\n",
       "      <td>0.235953</td>\n",
       "      <td>0.568399</td>\n",
       "      <td>0.829214</td>\n",
       "      <td>-0.248728</td>\n",
       "      <td>...</td>\n",
       "      <td>0.000131</td>\n",
       "      <td>2.528983</td>\n",
       "      <td>3.559742</td>\n",
       "      <td>2.786614</td>\n",
       "      <td>2.103129</td>\n",
       "      <td>2.874283</td>\n",
       "      <td>2.343532</td>\n",
       "      <td>2.923512</td>\n",
       "      <td>4.182241</td>\n",
       "      <td>3.157713</td>\n",
       "    </tr>\n",
       "    <tr>\n",
       "      <th>49999</th>\n",
       "      <td>0.003495</td>\n",
       "      <td>-0.002263</td>\n",
       "      <td>-0.002792</td>\n",
       "      <td>0.089359</td>\n",
       "      <td>0.210033</td>\n",
       "      <td>0.247913</td>\n",
       "      <td>0.294639</td>\n",
       "      <td>0.493706</td>\n",
       "      <td>0.580512</td>\n",
       "      <td>-0.300519</td>\n",
       "      <td>...</td>\n",
       "      <td>0.000156</td>\n",
       "      <td>2.620514</td>\n",
       "      <td>3.409888</td>\n",
       "      <td>3.430799</td>\n",
       "      <td>2.246504</td>\n",
       "      <td>2.707959</td>\n",
       "      <td>2.748753</td>\n",
       "      <td>2.934784</td>\n",
       "      <td>4.008138</td>\n",
       "      <td>4.024332</td>\n",
       "    </tr>\n",
       "  </tbody>\n",
       "</table>\n",
       "<p>50000 rows × 84 columns</p>\n",
       "</div>"
      ],
      "text/plain": [
       "       sensor_1/acceleration/mean  sensor_2/acceleration/mean  \\\n",
       "0                        0.009764                    0.011494   \n",
       "1                        0.009800                    0.002345   \n",
       "2                        0.005349                    0.011791   \n",
       "3                        0.000187                   -0.005966   \n",
       "4                        0.006093                    0.002964   \n",
       "...                           ...                         ...   \n",
       "49995                    0.018096                    0.004166   \n",
       "49996                    0.008015                    0.010936   \n",
       "49997                    0.004533                    0.011163   \n",
       "49998                    0.016410                    0.019973   \n",
       "49999                    0.003495                   -0.002263   \n",
       "\n",
       "       sensor_3/acceleration/mean  sensor_1/acceleration/std  \\\n",
       "0                        0.006821                   0.095766   \n",
       "1                        0.006794                   0.098875   \n",
       "2                        0.005558                   0.010677   \n",
       "3                       -0.001712                   0.085607   \n",
       "4                        0.001560                   0.060175   \n",
       "...                           ...                        ...   \n",
       "49995                    0.015179                   0.093106   \n",
       "49996                    0.014510                   0.070580   \n",
       "49997                   -0.000664                   0.092091   \n",
       "49998                    0.037972                   0.097714   \n",
       "49999                   -0.002792                   0.089359   \n",
       "\n",
       "       sensor_2/acceleration/std  sensor_3/acceleration/std  \\\n",
       "0                       0.161612                   0.283912   \n",
       "1                       0.212293                   0.275367   \n",
       "2                       0.020596                   0.023571   \n",
       "3                       0.196855                   0.205195   \n",
       "4                       0.175737                   0.192483   \n",
       "...                          ...                        ...   \n",
       "49995                   0.196701                   0.245160   \n",
       "49996                   0.151584                   0.219644   \n",
       "49997                   0.199724                   0.259247   \n",
       "49998                   0.194672                   0.262104   \n",
       "49999                   0.210033                   0.247913   \n",
       "\n",
       "       sensor_1/acceleration/max  sensor_2/acceleration/max  \\\n",
       "0                       0.338075                   0.511311   \n",
       "1                       0.198619                   0.612137   \n",
       "2                       0.027556                   0.056871   \n",
       "3                       0.235776                   0.569074   \n",
       "4                       0.170310                   0.660217   \n",
       "...                          ...                        ...   \n",
       "49995                   0.251402                   0.627928   \n",
       "49996                   0.167889                   0.456616   \n",
       "49997                   0.217659                   0.588285   \n",
       "49998                   0.235953                   0.568399   \n",
       "49999                   0.294639                   0.493706   \n",
       "\n",
       "       sensor_3/acceleration/max  sensor_1/acceleration/min  ...  \\\n",
       "0                       0.674950                  -0.223562  ...   \n",
       "1                       0.749696                  -0.306607  ...   \n",
       "2                       0.056572                  -0.020569  ...   \n",
       "3                       0.463487                  -0.209703  ...   \n",
       "4                       0.606119                  -0.185975  ...   \n",
       "...                          ...                        ...  ...   \n",
       "49995                   0.907333                  -0.191248  ...   \n",
       "49996                   0.498169                  -0.179111  ...   \n",
       "49997                   0.710894                  -0.214861  ...   \n",
       "49998                   0.829214                  -0.248728  ...   \n",
       "49999                   0.580512                  -0.300519  ...   \n",
       "\n",
       "       sensor_3/velocity/peak  sensor_1/velocity/impulse_factor  \\\n",
       "0                    0.000207                          2.433362   \n",
       "1                    0.000138                          2.204137   \n",
       "2                    0.000026                          1.936146   \n",
       "3                    0.000143                          2.343853   \n",
       "4                    0.000118                          2.273364   \n",
       "...                       ...                               ...   \n",
       "49995                0.000150                          2.740211   \n",
       "49996                0.000140                          2.479343   \n",
       "49997                0.000172                          2.932770   \n",
       "49998                0.000131                          2.528983   \n",
       "49999                0.000156                          2.620514   \n",
       "\n",
       "       sensor_2/velocity/impulse_factor  sensor_3/velocity/impulse_factor  \\\n",
       "0                              3.808749                          3.469636   \n",
       "1                              3.182531                          2.569735   \n",
       "2                              2.458270                          2.257664   \n",
       "3                              2.638394                          3.109306   \n",
       "4                              4.294731                          3.318239   \n",
       "...                                 ...                               ...   \n",
       "49995                          3.570448                          3.403280   \n",
       "49996                          3.028907                          3.034161   \n",
       "49997                          3.177637                          2.931674   \n",
       "49998                          3.559742                          2.786614   \n",
       "49999                          3.409888                          3.430799   \n",
       "\n",
       "       sensor_1/velocity/crest_factor  sensor_2/velocity/crest_factor  \\\n",
       "0                            2.037123                        2.974232   \n",
       "1                            1.929710                        2.579658   \n",
       "2                            1.683775                        2.093925   \n",
       "3                            2.007188                        2.181265   \n",
       "4                            1.954634                        3.354862   \n",
       "...                               ...                             ...   \n",
       "49995                        2.311937                        2.860436   \n",
       "49996                        2.193811                        2.449043   \n",
       "49997                        2.442035                        2.507414   \n",
       "49998                        2.103129                        2.874283   \n",
       "49999                        2.246504                        2.707959   \n",
       "\n",
       "       sensor_3/velocity/crest_factor  sensor_1/velocity/clearance_factor  \\\n",
       "0                            2.751640                            2.791162   \n",
       "1                            2.093326                            2.456032   \n",
       "2                            1.920331                            2.143697   \n",
       "3                            2.583273                            2.636515   \n",
       "4                            2.553922                            2.557923   \n",
       "...                               ...                                 ...   \n",
       "49995                        2.700949                            3.145440   \n",
       "49996                        2.435532                            2.709995   \n",
       "49997                        2.393400                            3.372916   \n",
       "49998                        2.343532                            2.923512   \n",
       "49999                        2.748753                            2.934784   \n",
       "\n",
       "       sensor_2/velocity/clearance_factor  sensor_3/velocity/clearance_factor  \n",
       "0                                4.570390                            4.195728  \n",
       "1                                3.740394                            3.035847  \n",
       "2                                2.742221                            2.561180  \n",
       "3                                3.039421                            3.574973  \n",
       "4                                5.052758                            4.074405  \n",
       "...                                   ...                                 ...  \n",
       "49995                            4.209266                            4.045308  \n",
       "49996                            3.506853                            3.585953  \n",
       "49997                            3.843365                            3.432871  \n",
       "49998                            4.182241                            3.157713  \n",
       "49999                            4.008138                            4.024332  \n",
       "\n",
       "[50000 rows x 84 columns]"
      ]
     },
     "execution_count": 52,
     "metadata": {},
     "output_type": "execute_result"
    }
   ],
   "source": [
    "time_domain_statistical_features"
   ]
  },
  {
   "cell_type": "markdown",
   "metadata": {},
   "source": [
    "### Label encoding"
   ]
  },
  {
   "cell_type": "code",
   "execution_count": 53,
   "metadata": {},
   "outputs": [],
   "source": [
    "dataset = time_domain_statistical_features"
   ]
  },
  {
   "cell_type": "code",
   "execution_count": 54,
   "metadata": {},
   "outputs": [],
   "source": [
    "enc = LabelEncoder()\n",
    "labels = enc.fit_transform(feature_dataset.classes)\n",
    "\n",
    "features = dataset.values"
   ]
  },
  {
   "cell_type": "code",
   "execution_count": 60,
   "metadata": {},
   "outputs": [
    {
     "data": {
      "text/plain": [
       "((50000,), array([3, 0, 0, ..., 3, 0, 1]))"
      ]
     },
     "execution_count": 60,
     "metadata": {},
     "output_type": "execute_result"
    }
   ],
   "source": [
    "labels.shape, labels"
   ]
  },
  {
   "cell_type": "code",
   "execution_count": 59,
   "metadata": {},
   "outputs": [
    {
     "data": {
      "text/plain": [
       "(50000, 84)"
      ]
     },
     "execution_count": 59,
     "metadata": {},
     "output_type": "execute_result"
    }
   ],
   "source": [
    "features.shape"
   ]
  },
  {
   "cell_type": "markdown",
   "metadata": {},
   "source": [
    "### Stratified train-test split"
   ]
  },
  {
   "cell_type": "code",
   "execution_count": 61,
   "metadata": {},
   "outputs": [],
   "source": [
    "X_train, X_test, y_train, y_test = train_test_split(features, labels, test_size=0.2, random_state=42, stratify=labels)"
   ]
  },
  {
   "cell_type": "code",
   "execution_count": 62,
   "metadata": {},
   "outputs": [
    {
     "data": {
      "text/plain": [
       "4    2000\n",
       "2    2000\n",
       "3    2000\n",
       "0    2000\n",
       "1    2000\n",
       "Name: count, dtype: int64"
      ]
     },
     "execution_count": 62,
     "metadata": {},
     "output_type": "execute_result"
    }
   ],
   "source": [
    "pd.Series(y_test).value_counts()"
   ]
  },
  {
   "cell_type": "markdown",
   "metadata": {},
   "source": [
    "### Hparam Optimization"
   ]
  },
  {
   "cell_type": "code",
   "execution_count": 71,
   "metadata": {},
   "outputs": [],
   "source": [
    "random_state = 42\n",
    "\n",
    "param_dist_lr = {\n",
    "    \"param__C\": loguniform(1e-3, 1e3),\n",
    "}\n",
    "\n",
    "\n",
    "repeated_stratified_kfold = RepeatedStratifiedKFold(n_splits=5, n_repeats=3, random_state=random_state)\n",
    "lr = LogisticRegression(max_iter=2000, random_state=random_state)\n",
    "\n",
    "model_pipeline = Pipeline(steps=[\n",
    "    ('scaler', StandardScaler()),\n",
    "    ('param', lr)\n",
    "])\n",
    "\n",
    "search_strategy = RandomizedSearchCV(\n",
    "    estimator=model_pipeline,\n",
    "    param_distributions=param_dist_lr,\n",
    "    scoring=\"accuracy\",\n",
    "    cv=repeated_stratified_kfold,\n",
    "    n_iter=20,\n",
    "    n_jobs=-1,\n",
    "    return_train_score=True,\n",
    "    random_state=random_state,\n",
    ")\n",
    "\n",
    "random_search_cv_results = search_strategy.fit(X_train, y_train)"
   ]
  },
  {
   "cell_type": "code",
   "execution_count": 75,
   "metadata": {},
   "outputs": [],
   "source": [
    "score_optimization = {\n",
    "    \"hparam_opt/train_cv/acc\": random_search_cv_results.cv_results_[\"mean_train_score\"][random_search_cv_results.best_index_],\n",
    "    \"hparam_opt/test_cv/acc\": random_search_cv_results.cv_results_[\"mean_test_score\"][random_search_cv_results.best_index_],\n",
    "}"
   ]
  },
  {
   "cell_type": "code",
   "execution_count": 76,
   "metadata": {},
   "outputs": [
    {
     "data": {
      "text/plain": [
       "{'param__C': 506.1576888752306}"
      ]
     },
     "execution_count": 76,
     "metadata": {},
     "output_type": "execute_result"
    }
   ],
   "source": [
    "random_search_cv_results.best_params_"
   ]
  },
  {
   "cell_type": "code",
   "execution_count": 77,
   "metadata": {},
   "outputs": [
    {
     "data": {
      "text/plain": [
       "0.4941"
      ]
     },
     "execution_count": 77,
     "metadata": {},
     "output_type": "execute_result"
    }
   ],
   "source": [
    "random_search_cv_results.score(X_test, y_test)"
   ]
  },
  {
   "cell_type": "code",
   "execution_count": 230,
   "metadata": {},
   "outputs": [],
   "source": [
    "class Trainer:\n",
    "    def __init__(self, datamodule, model):\n",
    "        self.model = model\n",
    "        self.X_train, self.X_test, self.y_train, self.y_test = datamodule.split()\n",
    "\n",
    "    def fit_cv(self, search_strategy, param_distributions):\n",
    "        # self.logger.info(f\"Training {self.model.__name__}...\")\n",
    "        if self.model.__name__ == \"LogisticRegression\":\n",
    "            model = Pipeline(\n",
    "                steps=[(\"scaler\", StandardScaler()), (\"model\", self.model(max_iter=2000, random_state=42))]\n",
    "            )\n",
    "            param_distributions = {\n",
    "                f\"param__{k}\": v for k, v in param_distributions.items()\n",
    "            }\n",
    "        else:\n",
    "            model = self.model\n",
    "        search_strategy = search_strategy(\n",
    "            estimator=model, param_distributions=param_distributions\n",
    "        )\n",
    "\n",
    "        # self.logger.info(\"Optimizing hyperparameters...\")\n",
    "        search_strategy.fit(self.X_train, self.y_train)\n",
    "\n",
    "        # self.logger.info(\"Retrieving hparams and results...\")\n",
    "        hparams = search_strategy.best_params_\n",
    "        opt_score = {\n",
    "            \"hparam_opt/train_cv/acc\": search_strategy.cv_results_[\"mean_train_score\"][\n",
    "                search_strategy.best_index_\n",
    "            ],\n",
    "            \"hparam_opt/test_cv/acc\": search_strategy.cv_results_[\"mean_test_score\"][\n",
    "                search_strategy.best_index_\n",
    "            ],\n",
    "        }\n",
    "        \n",
    "        test_score = {\"test/acc\": search_strategy.score(self.X_test, self.y_test)}\n",
    "        \n",
    "        return opt_score, test_score, hparams\n",
    "\n",
    "    @staticmethod\n",
    "    def fit(model, X_train, y_train, hparams):\n",
    "        # self.logger.info(f\"Training {self.model.__name__}...\")\n",
    "        if model.__name__ == \"LogisticRegression\":\n",
    "            hparams = {k.split(\"__\")[1]: v for k, v in hparams.items()}\n",
    "\n",
    "            model = Pipeline(\n",
    "                steps=[(\"scaler\", StandardScaler()), (\"model\", model(**hparams))]\n",
    "            )\n",
    "        else:\n",
    "            model = model(**hparams)\n",
    "\n",
    "        model.fit(X_train, y_train)\n",
    "        return model\n",
    "\n",
    "    @staticmethod\n",
    "    def predict(model, X_test):\n",
    "        y_test = model.predict(X_test)\n",
    "        return y_test\n",
    "\n",
    "    @staticmethod\n",
    "    def evaluate(y_test, y_pred):\n",
    "        score = {\n",
    "            \"test/acc\": accuracy_score(y_test, y_pred),\n",
    "        }\n",
    "        return score"
   ]
  },
  {
   "cell_type": "code",
   "execution_count": 231,
   "metadata": {},
   "outputs": [],
   "source": [
    "class DataModule:\n",
    "    def __init__(self, dataset, label_col, feature_cols, test_size, random_state):\n",
    "        self.dataset = dataset\n",
    "        self.label_col = label_col\n",
    "        self.feature_cols = feature_cols\n",
    "        self.test_size = test_size\n",
    "        self.random_state = random_state\n",
    "        \n",
    "    def prepare_data(self):\n",
    "        features = self.dataset[self.feature_cols].values\n",
    "        labels = self.dataset[self.label_col].values\n",
    "        return features, labels\n",
    "    \n",
    "    def encode_labels(self, labels, problem_type=\"multi-class\"):\n",
    "        if problem_type == \"multi-class\":\n",
    "            enc = LabelEncoder()\n",
    "            labels = enc.fit_transform(labels)\n",
    "        elif problem_type == \"multi-label\":\n",
    "            raise NotImplementedError(\" Multi-label classification is not yet supported\")\n",
    "        else:\n",
    "            raise ValueError(\"Invalid problem type. Please choose either 'multi-class' or 'multi-label'\")\n",
    "        return labels\n",
    "    \n",
    "    def split(self):\n",
    "        features, labels = self.prepare_data()\n",
    "        labels = self.encode_labels(labels)\n",
    "        X_train, X_test, y_train, y_test = train_test_split(\n",
    "            features, labels, test_size=self.test_size, random_state=self.random_state, stratify=labels\n",
    "        )\n",
    "        return X_train, X_test, y_train, y_test"
   ]
  },
  {
   "cell_type": "code",
   "execution_count": 232,
   "metadata": {},
   "outputs": [],
   "source": [
    "def search_strategy(\n",
    "    estimator: Callable,\n",
    "    param_distributions: dict,\n",
    "    search_algo: Callable,\n",
    "    cv_method: Callable,\n",
    "    n_iter: int,\n",
    "    random_state: int,\n",
    "    n_jobs: int,\n",
    "    return_train_score: bool,\n",
    "):\n",
    "    strategy = search_algo(\n",
    "        estimator=model_pipeline,\n",
    "        param_distributions=param_distributions,\n",
    "        scoring=\"accuracy\",\n",
    "        cv=cv_method,\n",
    "        n_iter=n_iter,\n",
    "        n_jobs=-1,\n",
    "        return_train_score=return_train_score        \n",
    "    )\n",
    "    return strategy"
   ]
  },
  {
   "cell_type": "code",
   "execution_count": 233,
   "metadata": {},
   "outputs": [],
   "source": [
    "lr = LogisticRegression(max_iter=2000, random_state=random_state)\n",
    "\n",
    "repeated_stratified_kfold = RepeatedStratifiedKFold(n_splits=5, n_repeats=3, random_state=random_state)\n",
    "\n",
    "param_dist_lr = {\n",
    "    \"C\": loguniform(1e-3, 1e3),\n",
    "}\n",
    "\n",
    "partial_search_strategy = partial(\n",
    "    search_strategy,\n",
    "    search_algo=RandomizedSearchCV,\n",
    "    cv_method=repeated_stratified_kfold,\n",
    "    n_iter=20,\n",
    "    random_state=random_state,\n",
    "    n_jobs=-1,\n",
    "    return_train_score=True,\n",
    ")"
   ]
  },
  {
   "cell_type": "code",
   "execution_count": 234,
   "metadata": {},
   "outputs": [],
   "source": [
    "datamodule = DataModule(\n",
    "    feature_dataset,\n",
    "    label_col=\"classes\",\n",
    "    feature_cols=only_time_domain,\n",
    "    test_size=0.2,\n",
    "    random_state=42,\n",
    ")"
   ]
  },
  {
   "cell_type": "code",
   "execution_count": 235,
   "metadata": {},
   "outputs": [],
   "source": [
    "model = LogisticRegression\n",
    "\n",
    "trainer = Trainer(datamodule, LogisticRegression)"
   ]
  },
  {
   "cell_type": "code",
   "execution_count": 237,
   "metadata": {},
   "outputs": [],
   "source": [
    "opt_scores, test_score, hparams = trainer.fit_cv(search_strategy=partial_search_strategy, param_distributions=param_dist_lr)"
   ]
  },
  {
   "cell_type": "code",
   "execution_count": 238,
   "metadata": {},
   "outputs": [
    {
     "data": {
      "text/plain": [
       "{'hparam_opt/train_cv/acc': 0.49053541666666667,\n",
       " 'hparam_opt/test_cv/acc': 0.4855083333333334}"
      ]
     },
     "execution_count": 238,
     "metadata": {},
     "output_type": "execute_result"
    }
   ],
   "source": [
    "opt_scores"
   ]
  },
  {
   "cell_type": "code",
   "execution_count": 240,
   "metadata": {},
   "outputs": [
    {
     "data": {
      "text/plain": [
       "{'test/acc': 0.4938}"
      ]
     },
     "execution_count": 240,
     "metadata": {},
     "output_type": "execute_result"
    }
   ],
   "source": [
    "test_score"
   ]
  },
  {
   "cell_type": "code",
   "execution_count": 241,
   "metadata": {},
   "outputs": [
    {
     "data": {
      "text/plain": [
       "{'param__C': 10.289871888521818}"
      ]
     },
     "execution_count": 241,
     "metadata": {},
     "output_type": "execute_result"
    }
   ],
   "source": [
    "hparams"
   ]
  },
  {
   "cell_type": "code",
   "execution_count": 216,
   "metadata": {},
   "outputs": [],
   "source": [
    "_,X_test, _, y_test = datamodule.split()"
   ]
  },
  {
   "cell_type": "code",
   "execution_count": 226,
   "metadata": {},
   "outputs": [
    {
     "name": "stderr",
     "output_type": "stream",
     "text": [
      "/home/rodrigo-kobashikawa/miniconda3/envs/study-case/lib/python3.10/site-packages/sklearn/linear_model/_logistic.py:469: ConvergenceWarning: lbfgs failed to converge (status=1):\n",
      "STOP: TOTAL NO. of ITERATIONS REACHED LIMIT.\n",
      "\n",
      "Increase the number of iterations (max_iter) or scale the data as shown in:\n",
      "    https://scikit-learn.org/stable/modules/preprocessing.html\n",
      "Please also refer to the documentation for alternative solver options:\n",
      "    https://scikit-learn.org/stable/modules/linear_model.html#logistic-regression\n",
      "  n_iter_i = _check_optimize_result(\n"
     ]
    }
   ],
   "source": [
    "test_model = trainer.fit(model, X_test, y_test, hparams)"
   ]
  },
  {
   "cell_type": "code",
   "execution_count": 228,
   "metadata": {},
   "outputs": [],
   "source": [
    "y_pred = trainer.predict(test_model, X_test)"
   ]
  },
  {
   "cell_type": "code",
   "execution_count": 229,
   "metadata": {},
   "outputs": [
    {
     "data": {
      "text/plain": [
       "{'test/acc': 0.489}"
      ]
     },
     "execution_count": 229,
     "metadata": {},
     "output_type": "execute_result"
    }
   ],
   "source": [
    "trainer.evaluate(y_test, y_pred)"
   ]
  },
  {
   "cell_type": "code",
   "execution_count": null,
   "metadata": {},
   "outputs": [],
   "source": []
  }
 ],
 "metadata": {
  "kernelspec": {
   "display_name": "study-case",
   "language": "python",
   "name": "python3"
  },
  "language_info": {
   "codemirror_mode": {
    "name": "ipython",
    "version": 3
   },
   "file_extension": ".py",
   "mimetype": "text/x-python",
   "name": "python",
   "nbconvert_exporter": "python",
   "pygments_lexer": "ipython3",
   "version": "3.10.13"
  }
 },
 "nbformat": 4,
 "nbformat_minor": 2
}
